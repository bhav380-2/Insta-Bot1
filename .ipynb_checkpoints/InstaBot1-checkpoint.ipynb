{
 "cells": [
  {
   "cell_type": "code",
   "execution_count": 1,
   "id": "8c38352c",
   "metadata": {},
   "outputs": [],
   "source": [
    "from selenium.webdriver.chrome.service  import Service\n",
    "from selenium import webdriver\n",
    "from selenium.webdriver.support.wait import WebDriverWait\n",
    "from selenium.webdriver.support import expected_conditions as EC\n",
    "from selenium.webdriver.common.by import By\n",
    "from selenium.common.exceptions import NoSuchElementException\n",
    "from selenium.webdriver.common.keys import Keys\n",
    "\n",
    "from bs4 import BeautifulSoup\n",
    "import json\n",
    "import pandas as pd\n",
    "import time\n",
    "from ordered_set import OrderedSet\n"
   ]
  },
  {
   "cell_type": "code",
   "execution_count": 2,
   "id": "de609063",
   "metadata": {},
   "outputs": [],
   "source": [
    "service = Service()\n",
    "driver = webdriver.Chrome(service = service)\n"
   ]
  },
  {
   "cell_type": "markdown",
   "id": "3ade2b64",
   "metadata": {},
   "source": [
    "# 1. Login to Instagram Handle"
   ]
  },
  {
   "cell_type": "code",
   "execution_count": 2,
   "id": "8c708ce7",
   "metadata": {},
   "outputs": [],
   "source": [
    "driver.get(\"https://www.instagram.com\")\n",
    "time.sleep(3)\n",
    "\n",
    "userNameInput = driver.find_element(\"name\",\"username\")\n",
    "userNameInput.send_keys(\"SAMPLE USERNAME\")\n",
    "\n",
    "passwordInput = driver.find_element(\"name\",\"password\")\n",
    "passwordInput.send_keys(\"SAMPLE PASSWORD\")\n",
    "\n",
    "loginButton = [i for i in driver.find_elements(\"tag name\",\"button\")\n",
    "   if(i.text==\"Log in\")\n",
    "][0]\n",
    "\n",
    "loginButton.click() \n",
    "time.sleep(8.5)\n",
    "\n",
    "\n",
    "driver.get(\"https://www.instagram.com\")\n",
    "time.sleep(2.5)\n",
    "\n",
    "disableNotification = driver.find_element('xpath','/html/body/div[3]/div[1]/div/div[2]/div/div/div/div/div[2]/div/div/div[3]/button[2]')\n",
    "disableNotification.click()\n"
   ]
  },
  {
   "cell_type": "code",
   "execution_count": null,
   "id": "38d7af43",
   "metadata": {},
   "outputs": [],
   "source": []
  },
  {
   "cell_type": "markdown",
   "id": "6aacdc3e",
   "metadata": {},
   "source": [
    "# 2. Searching A keyword (Food)"
   ]
  },
  {
   "cell_type": "code",
   "execution_count": 116,
   "id": "a914f0e4",
   "metadata": {},
   "outputs": [],
   "source": [
    "#find and click search icon\n",
    "searchIcon = driver.find_element('xpath','/html/body/div[2]/div/div/div[2]/div/div/div/div[1]/div[1]/div[1]/div/div/div/div/div[2]/div[2]/span/div/a')\n",
    "searchIcon.click()\n",
    "\n",
    "# find search input and type food\n",
    "searchInput = [ i for i in driver.find_elements('tag name','input')\n",
    "    if i.get_attribute(\"placeholder\")=='Search'\n",
    "][0]\n",
    "searchInput.send_keys('food')\n",
    "\n",
    "#find suggestionList\n",
    "suggestionList = driver.find_element(\"xpath\",'/html/body/div[2]/div/div/div[2]/div/div/div/div[1]/div[1]/div[1]/div/div/div[2]/div/div/div[2]/div/div/div[2]')\n",
    "suggestionsHtml = suggestionList.get_attribute('outerHTML') #fetch suggestionList HTML\n",
    "\n",
    "data = BeautifulSoup(suggestionsHtml,'html.parser') #parse html using beautifulSoup\n",
    "\n",
    "#fetch handle names\n",
    "handleNames = data.select('a div:nth-child(1)>div>div>div:nth-child(2)>div>div:nth-child(1)')\n",
    "\n",
    "#print handle names\n",
    "print(\"Suggestions list Handle Names : \\n\")\n",
    "for i in handleNames:\n",
    "   \n",
    "    x = i.select('span:nth-child(1)')\n",
    "    if(x[0].get_text()[0]!=\"#\"):\n",
    "        print('\\t',i.select('span span')[0].get_text().split('•')[0])\n"
   ]
  },
  {
   "cell_type": "code",
   "execution_count": null,
   "id": "426f4b3a",
   "metadata": {},
   "outputs": [],
   "source": []
  },
  {
   "cell_type": "markdown",
   "id": "c684526a",
   "metadata": {},
   "source": [
    "# 3. Searching and Opening a Profile"
   ]
  },
  {
   "cell_type": "code",
   "execution_count": 5,
   "id": "08b251c1",
   "metadata": {},
   "outputs": [],
   "source": [
    "def searchAndOpenProfile(profile_name):\n",
    "    \n",
    "    driver.get(\"https://www.instagram.com\") #go to home page\n",
    "    \n",
    "    # find and click search icon\n",
    "    searchIcon = driver.find_element('xpath','/html/body/div[2]/div/div/div[2]/div/div/div/div[1]/div[1]/div[1]/div/div/div/div/div[2]/div[2]/span/div/a')\n",
    "    searchIcon.click()\n",
    "\n",
    "    # find search input and search profile_name\n",
    "    searchInput = [ i for i in driver.find_elements('tag name','input')\n",
    "        if i.get_attribute(\"placeholder\")=='Search'\n",
    "    ][0]\n",
    "    searchInput.send_keys(profile_name)\n",
    "\n",
    "    #open searched profile\n",
    "    WebDriverWait(driver, 5).until(\n",
    "        EC.presence_of_element_located((By.XPATH, \"/html/body/div[2]/div/div/div[2]/div/div/div/div[1]/div[1]/div[1]/div/div/div[2]/div/div/div[2]/div/div/div[2]/div/a[1]\"))\n",
    "    ).click()\n",
    "    \n",
    "    time.sleep(2.5)\n"
   ]
  },
  {
   "cell_type": "code",
   "execution_count": 120,
   "id": "3082e45d",
   "metadata": {},
   "outputs": [],
   "source": [
    "profile_name = 'So Delhi'\n",
    "searchAndOpenProfile(profile_name)\n"
   ]
  },
  {
   "cell_type": "markdown",
   "id": "ec171a9d",
   "metadata": {},
   "source": [
    "# 4. Follow/Unfollow given Handle"
   ]
  },
  {
   "cell_type": "code",
   "execution_count": 1,
   "id": "e94fd6b2",
   "metadata": {},
   "outputs": [],
   "source": [
    "def followAccount():\n",
    "\n",
    "    #find follow button\n",
    "    btn = WebDriverWait(driver, 5).until(EC.presence_of_element_located((\"xpath\",\"/html/body/div[2]/div/div/div[2]/div/div/div/div[1]/div[1]/div[2]/div[2]/section/main/div/header/section/div[1]/div[1]/div/div[1]/button\")))\n",
    "    \n",
    "    if(btn.text=='Follow'):\n",
    "        btn.click()\n",
    "    else:\n",
    "        print('already followed')\n"
   ]
  },
  {
   "cell_type": "code",
   "execution_count": null,
   "id": "7aea7247",
   "metadata": {},
   "outputs": [],
   "source": []
  },
  {
   "cell_type": "code",
   "execution_count": 2,
   "id": "4b60a25d",
   "metadata": {},
   "outputs": [],
   "source": [
    "def unfollowAccount():\n",
    "    \n",
    "    # find following button\n",
    "    btn = WebDriverWait(driver, 5).until(EC.presence_of_element_located((\"xpath\",\"/html/body/div[2]/div/div/div[2]/div/div/div/div[1]/div[1]/div[2]/div[2]/section/main/div/header/section/div[1]/div[1]/div/div[1]/button\")))\n",
    "    \n",
    "    if(btn.text=='Following'): # if following\n",
    "        btn.click()\n",
    "        time.sleep(1.6)\n",
    "       \n",
    "        # find unfollow button and click\n",
    "        unfollowBtn = [i for i in WebDriverWait(driver,5).until(EC.presence_of_all_elements_located((\"tag name\",'span')))\n",
    "         if i.text=='Unfollow'\n",
    "        ][0]\n",
    "        \n",
    "        unfollowBtn.click()\n",
    "    else:\n",
    "        print('already Unfollowed')\n"
   ]
  },
  {
   "cell_type": "markdown",
   "id": "fc812174",
   "metadata": {},
   "source": [
    "# part(1):- Open instagram handle of 'So Delhi'"
   ]
  },
  {
   "cell_type": "code",
   "execution_count": 242,
   "id": "78b0988e",
   "metadata": {},
   "outputs": [],
   "source": [
    "profile_name = 'So Delhi'\n",
    "searchAndOpenProfile(profile_name) # function call searchAndOpenProfile()\n"
   ]
  },
  {
   "cell_type": "markdown",
   "id": "c31153c4",
   "metadata": {},
   "source": [
    "# part(2):- Start following it"
   ]
  },
  {
   "cell_type": "code",
   "execution_count": 243,
   "id": "e3d3be86",
   "metadata": {},
   "outputs": [
    {
     "name": "stdout",
     "output_type": "stream",
     "text": [
      "already followed\n"
     ]
    }
   ],
   "source": [
    "followAccount()   # call followAccount() function\n",
    "time.sleep(2.5)\n"
   ]
  },
  {
   "cell_type": "markdown",
   "id": "f331c087",
   "metadata": {},
   "source": [
    "# part(3):- Unfollow the account"
   ]
  },
  {
   "cell_type": "code",
   "execution_count": 244,
   "id": "af0f86d4",
   "metadata": {},
   "outputs": [],
   "source": [
    "unfollowAccount()  # call unfollowAccount() function"
   ]
  },
  {
   "cell_type": "code",
   "execution_count": 27,
   "id": "4b36b377",
   "metadata": {},
   "outputs": [],
   "source": []
  },
  {
   "cell_type": "markdown",
   "id": "b26f333b",
   "metadata": {},
   "source": [
    "# 5. Like/Unlike Posts"
   ]
  },
  {
   "cell_type": "code",
   "execution_count": 42,
   "id": "4d4badc0",
   "metadata": {},
   "outputs": [],
   "source": [
    "def unlikePost(postNum):\n",
    "    \n",
    "    # find unlike button container\n",
    "    unlike_btn_container = WebDriverWait(driver,20).until(EC.presence_of_all_elements_located(('tag name','section')))[2]\n",
    "    # get like/unlike button\n",
    "    btn = unlike_btn_container.find_element('tag name','svg')\n",
    "    if btn.get_attribute('aria-label')=='Unlike': # if liked , unlike post\n",
    "        btn.click()  \n",
    "        print(f'post {postNum} unliked')\n",
    "\n",
    "    else:      # if posts is already unliked\n",
    "        print(f'post {postNum} is already Unliked') \n",
    "        \n",
    "    # close the post\n",
    "    closeBtn = [i for i in WebDriverWait(driver,20).until(EC.presence_of_all_elements_located(('tag name','svg')))\n",
    "     if(i.get_attribute('aria-label')=='Close')\n",
    "    ][0]\n",
    "\n",
    "    closeBtn.click()\n"
   ]
  },
  {
   "cell_type": "code",
   "execution_count": 43,
   "id": "cd2dd3ab",
   "metadata": {},
   "outputs": [],
   "source": [
    "def likePost(postNum):\n",
    "        \n",
    "    # find like button container\n",
    "    like_btn_container = WebDriverWait(driver,20).until(EC.presence_of_all_elements_located(('tag name','section')))[2]\n",
    "    # get like/unlike button\n",
    "    btn = like_btn_container.find_element('tag name','svg')\n",
    "    if btn.get_attribute('aria-label')=='Like':# if not liked, like posts\n",
    "        btn.click()  \n",
    "        print(f'post {postNum} liked')\n",
    "        \n",
    "    else: # if already liked\n",
    "        print(f'post {postNum} is already liked')\n",
    "    \n",
    "    # close post\n",
    "    closeBtn = [i for i in WebDriverWait(driver,20).until(EC.presence_of_all_elements_located(('tag name','svg')))\n",
    "     if(i.get_attribute('aria-label')=='Close')\n",
    "    ][0]\n",
    "\n",
    "    closeBtn.click()\n"
   ]
  },
  {
   "cell_type": "code",
   "execution_count": 44,
   "id": "7f9c612a",
   "metadata": {},
   "outputs": [],
   "source": [
    "def visitPosts(top,action):\n",
    "    \n",
    "    i= 1\n",
    "    # find posts conainer\n",
    "    posts_container = WebDriverWait(driver,20).until(EC.visibility_of_element_located(('tag name','article')))\n",
    "    \n",
    "    # get all posts from posts container\n",
    "    posts =WebDriverWait(posts_container,10).until(EC.presence_of_all_elements_located(('tag name','a')))\n",
    "    posts_count=len(posts) #keeps count of fetched posts\n",
    "    \n",
    "    while i<=top:\n",
    "        posts[i].click() #click ith post\n",
    "        \n",
    "        #like/unlike posts based on action\n",
    "        if action=='like':\n",
    "            likePost(i)\n",
    "        \n",
    "        elif action=='unlike':\n",
    "            unlikePost(i)\n",
    "        \n",
    "        # if all posts are traversed , get newly loaded posts\n",
    "        if i==posts_count-1:\n",
    "            posts =posts + WebDriverWait(posts_container,10).until(EC.presence_of_all_elements_located(('tag name','a')))\n",
    "            posts = list(OrderedSet(posts))\n",
    "            posts_count=len(posts)\n",
    "\n",
    "        i+=1\n"
   ]
  },
  {
   "cell_type": "code",
   "execution_count": null,
   "id": "fd7e3093",
   "metadata": {},
   "outputs": [],
   "source": []
  },
  {
   "cell_type": "markdown",
   "id": "8a55accf",
   "metadata": {},
   "source": [
    "# part(1):- Like top 30 posts of 'dilsefoodie'"
   ]
  },
  {
   "cell_type": "code",
   "execution_count": null,
   "id": "c3574bb6",
   "metadata": {},
   "outputs": [],
   "source": [
    "profile_name = 'dilsefoodie'\n",
    "searchAndOpenProfile(profile_name)  # search and open profile\n",
    "time.sleep(3)\n",
    "visitPosts(30,'like')  # visit and like top 30 posts\n"
   ]
  },
  {
   "cell_type": "markdown",
   "id": "83a588a2",
   "metadata": {},
   "source": [
    "# part(2):- Unlike top 30 posts of 'dilsefoodie'"
   ]
  },
  {
   "cell_type": "code",
   "execution_count": null,
   "id": "55c73ede",
   "metadata": {},
   "outputs": [],
   "source": [
    "visitPosts(30,'unlike') # visit and unlike top 30 posts"
   ]
  },
  {
   "cell_type": "markdown",
   "id": "7b72e59a",
   "metadata": {},
   "source": [
    "# 6. Extract List of Followers"
   ]
  },
  {
   "cell_type": "code",
   "execution_count": 236,
   "id": "d0f2ef2a",
   "metadata": {},
   "outputs": [],
   "source": [
    "def extractFollowersList(profile_name,count):\n",
    "\n",
    "    searchAndOpenProfile(profile_name) # search and open profile \n",
    "    time.sleep(3)\n",
    "\n",
    "    # find and click followers button\n",
    "    followersBtn = driver.find_element('partial link text','followers')\n",
    "    followersBtn.click()\n",
    "    \n",
    "    followersList=[]   \n",
    "    \n",
    "    # fetch usernames webElement\n",
    "    usernames = WebDriverWait(driver,20).until(EC.visibility_of_all_elements_located(('class name','_aad7')))\n",
    "\n",
    "    followersBox = WebDriverWait(driver,20).until(EC.visibility_of_element_located(('class name','_aano'))) # contains followers list\n",
    "    current_height = driver.execute_script(\"return arguments[0].scrollHeight;\",followersBox) # current height of followers box\n",
    "    i=0\n",
    "    \n",
    "    while i<count:\n",
    "\n",
    "        if(i==len(usernames)):  # if traversed all followers in usernames webElement\n",
    "\n",
    "            # scroll to get more followers \n",
    "            driver.execute_script(\"arguments[0].scrollTop = arguments[0].scrollHeight\", followersBox)\n",
    "            time.sleep(2.5)\n",
    "            new_height = driver.execute_script(\"return arguments[0].scrollHeight;\",followersBox) # get new height\n",
    "\n",
    "            # if reached end of followers box break loop\n",
    "            if current_height==new_height:\n",
    "                break\n",
    "            \n",
    "            # update current height with new height of followersBox\n",
    "            current_height = new_height\n",
    "\n",
    "            usernames=WebDriverWait(driver,20).until(EC.visibility_of_all_elements_located(('class name','_aad7')))\n",
    "\n",
    "        followersList.append(usernames[i].text) # insert username in followers list\n",
    "        i+=1\n",
    "\n",
    "    # if i < count (case when view to followers list is restricted)\n",
    "    if i<count:\n",
    "        print(f'\\n\\n\\t allowed to see only {len(usernames)} followers ')\n",
    "\n",
    "    return followersList\n"
   ]
  },
  {
   "cell_type": "markdown",
   "id": "ecda2b91",
   "metadata": {},
   "source": [
    "# part(1):- extract first 500 followers of 'foodtalkindia' and 'sodelhi'"
   ]
  },
  {
   "cell_type": "code",
   "execution_count": 238,
   "id": "139a4ffb",
   "metadata": {},
   "outputs": [],
   "source": [
    "foodtalkindia_followers = extractFollowersList('foodtalkindia',500) # get first 500 folloers of foodtalkindia\n",
    "print('Foodtalkindia followers:-')\n",
    "print(foodtalkindia_followers)\n",
    "\n",
    "print('\\n\\n')\n",
    "\n",
    "sodelhi_followers = extractFollowersList('sodelhi',500) # get first 500 followers of sodelhi\n",
    "print('Sodelhi followers:-')\n",
    "print(sodelhi_followers) \n"
   ]
  },
  {
   "cell_type": "code",
   "execution_count": null,
   "id": "8fdb5b85",
   "metadata": {},
   "outputs": [],
   "source": []
  },
  {
   "cell_type": "markdown",
   "id": "7cb586d8",
   "metadata": {},
   "source": [
    "# part(2):- print all the followers of 'foodtalkindia' that you are following but those who don't follow you"
   ]
  },
  {
   "cell_type": "code",
   "execution_count": null,
   "id": "5e38f2cb",
   "metadata": {},
   "outputs": [],
   "source": [
    "driver.get('https://www.instagram.com') # open home page\n",
    "userProfileLink = driver.find_element('xpath','/html/body/div[2]/div/div/div[2]/div/div/div/div[1]/div[1]/div[1]/div/div/div/div/div[2]/div[8]/div/span/div/a')\n",
    "myUsername = userProfileLink.get_attribute('href')[25:].strip('/') # get username of user using userprofilelink\n",
    "\n",
    "for follower in foodtalkindia_followers:\n",
    "    \n",
    "    searchAndOpenProfile(follower) # open this followers profile page\n",
    "\n",
    "    # get following / follow button\n",
    "    btn = WebDriverWait(driver, 5).until(EC.presence_of_element_located((\"xpath\",\"/html/body/div[2]/div/div/div[2]/div/div/div/div[1]/div[1]/div[2]/div[2]/section/main/div/header/section/div[1]/div[1]/div/div[1]/button\")))\n",
    "\n",
    "    if(btn.text=='Following'):\n",
    "\n",
    "        # open followers list of this follower\n",
    "        followingBtn = WebDriverWait(driver,20).until(EC.presence_of_element_located(('partial link text','following')))\n",
    "        followingBtn.click()\n",
    "            \n",
    "        time.sleep(2)\n",
    "        \n",
    "        # get firstFollower of this follower\n",
    "        firstFollower = WebDriverWait(driver,20).until(EC.visibility_of_element_located(('class name','_aad7')))\n",
    "        \n",
    "        if(myUsername!=firstFollower.text):# if name of firstFollower does not match my username print follower\n",
    "            print(follower)\n"
   ]
  },
  {
   "cell_type": "code",
   "execution_count": null,
   "id": "bd6a37ce",
   "metadata": {},
   "outputs": [],
   "source": []
  },
  {
   "cell_type": "markdown",
   "id": "9d67ae79",
   "metadata": {},
   "source": [
    "# 7. check the story of coding.ninjas.com"
   ]
  },
  {
   "cell_type": "code",
   "execution_count": 228,
   "id": "d00f8ea9",
   "metadata": {},
   "outputs": [
    {
     "name": "stdout",
     "output_type": "stream",
     "text": [
      "Story already seen\n"
     ]
    }
   ],
   "source": [
    "searchAndOpenProfile('coding.ninjas')  # open coding ninjas profile\n",
    "time.sleep(3)\n",
    "\n",
    "storyButton = driver.find_element('class name','_aarf') # get story Button\n",
    "\n",
    "if storyButton.get_attribute('aria-disabled') == 'false': # if story present\n",
    "    \n",
    "    canvas = driver.find_element('tag name','canvas')  # find container of profile image\n",
    "    style = canvas.get_attribute('style').replace(' ','').split(';') # fetch style attribute\n",
    "    \n",
    "    height = style[3].split(\":\")[1]  # store height and width\n",
    "    width = style[4].split(':')[1]\n",
    "\n",
    "    if height=='168px' and width=='168px':  # if condition true story is unseen , see story\n",
    "\n",
    "        print(\"Viewing the story...\")\n",
    "        \n",
    "        storyButton.click();  # open stories  \n",
    "        time.sleep(1.5)\n",
    "        \n",
    "        while True:\n",
    "            \n",
    "            try:\n",
    "                # find next story button and click\n",
    "                next_story_button =driver.find_element('class name','_ac0d')  \n",
    "                next_story_button.click()\n",
    "                time.sleep(1)\n",
    "                \n",
    "            except NoSuchElementException : # if next story button not found break loop\n",
    "                break\n",
    "\n",
    "    else:\n",
    "        print('Story already seen')\n",
    "    \n",
    "else: # no stories\n",
    "    print('no stories available')\n"
   ]
  },
  {
   "cell_type": "code",
   "execution_count": null,
   "id": "76005c57",
   "metadata": {},
   "outputs": [],
   "source": []
  }
 ],
 "metadata": {
  "kernelspec": {
   "display_name": "Python 3 (ipykernel)",
   "language": "python",
   "name": "python3"
  },
  "language_info": {
   "codemirror_mode": {
    "name": "ipython",
    "version": 3
   },
   "file_extension": ".py",
   "mimetype": "text/x-python",
   "name": "python",
   "nbconvert_exporter": "python",
   "pygments_lexer": "ipython3",
   "version": "3.11.4"
  }
 },
 "nbformat": 4,
 "nbformat_minor": 5
}
